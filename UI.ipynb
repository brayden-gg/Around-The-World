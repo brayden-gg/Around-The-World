{
  "cells": [
    {
      "cell_type": "markdown",
      "metadata": {
        "id": "view-in-github",
        "colab_type": "text"
      },
      "source": [
        "<a href=\"https://colab.research.google.com/github/brayden-gg/Around-The-World/blob/main/UI.ipynb\" target=\"_parent\"><img src=\"https://colab.research.google.com/assets/colab-badge.svg\" alt=\"Open In Colab\"/></a>"
      ]
    },
    {
      "cell_type": "code",
      "execution_count": null,
      "metadata": {
        "id": "qHeCxKaVkF1E",
        "collapsed": true,
        "cellView": "form"
      },
      "outputs": [],
      "source": [
        "#@title Connect to Google Drive\n",
        "%%capture\n",
        "from google.colab import drive\n",
        "drive.mount('/content/drive')\n",
        "%cd \"/content/drive/MyDrive/Colab Notebooks/Spring22/decoupled-style-descriptors-eb\"\n",
        "\n",
        "!pip install virtualenv\n",
        "# !virtualenv .venv\n",
        "!source venv/bin/activate\n",
        "!pip install -r requirements.txt\n",
        "!pip install gradio\n",
        "!pip install tensorboardX\n",
        "!pip install importlib\n",
        "!pip install ffmpeg-python"
      ]
    },
    {
      "cell_type": "code",
      "execution_count": null,
      "metadata": {
        "id": "cO2UI-Keq88M",
        "cellView": "form"
      },
      "outputs": [],
      "source": [
        "#@title Imports\n",
        "import torch\n",
        "import argparse\n",
        "import numpy as np\n",
        "from helper import *\n",
        "from config.GlobalVariables import *\n",
        "from SynthesisNetwork import SynthesisNetwork\n",
        "from DataLoader import DataLoader\n",
        "import convenience\n",
        "import gradio as gr"
      ]
    },
    {
      "cell_type": "code",
      "execution_count": 43,
      "metadata": {
        "colab": {
          "base_uri": "https://localhost:8080/",
          "height": 678
        },
        "id": "d4slHswDjmFD",
        "outputId": "07cc5f27-96ea-4250-cce2-71bf17dbcf15"
      },
      "outputs": [
        {
          "metadata": {
            "tags": null
          },
          "name": "stdout",
          "output_type": "stream",
          "text": [
            "self.datadir :  ./data/writers\n",
            "Colab notebook detected. This cell will run indefinitely so that you can see errors and logs. To turn off, set debug=False in launch().\n",
            "Running on public URL: https://55511.gradio.app\n",
            "\n",
            "This share link expires in 72 hours. For free permanent hosting, check out Spaces: https://huggingface.co/spaces\n"
          ]
        },
        {
          "data": {
            "text/html": [
              "<div><iframe src=\"https://55511.gradio.app\" width=\"900\" height=\"500\" allow=\"autoplay; camera; microphone;\" frameborder=\"0\" allowfullscreen></iframe></div>"
            ],
            "text/plain": [
              "<IPython.core.display.HTML object>"
            ]
          },
          "metadata": {},
          "output_type": "display_data"
        },
        {
          "output_type": "stream",
          "name": "stdout",
          "text": [
            "Keyboard interruption in main thread... closing server.\n"
          ]
        },
        {
          "output_type": "execute_result",
          "data": {
            "text/plain": [
              "(<gradio.routes.App at 0x7fa72d7bf090>,\n",
              " 'http://127.0.0.1:7883/',\n",
              " 'https://55511.gradio.app')"
            ]
          },
          "metadata": {},
          "execution_count": 43
        }
      ],
      "source": [
        "#@title Demo\n",
        "device = 'cpu'\n",
        "num_samples = 10\n",
        "\n",
        "net = SynthesisNetwork(weight_dim=256, num_layers=3).to(device)\n",
        "\n",
        "if not torch.cuda.is_available():\n",
        "    try: # retrained model also contains loss in dict \n",
        "        net.load_state_dict(torch.load('./model/250000.pt', map_location=torch.device(device))[\"model_state_dict\"])\n",
        "    except:\n",
        "        net.load_state_dict(torch.load('./model/250000.pt', map_location=torch.device(device)))\n",
        "    \n",
        "\n",
        "dl = DataLoader(num_writer=1, num_samples=10, divider=5.0, datadir='./data/writers')\n",
        "\n",
        "\n",
        "writer_options = [5, 14, 15, 16, 17, 22, 25, 80, 120, 137, 147, 151]\n",
        "all_loaded_data = []\n",
        "avail_char = \"0 1 2 3 4 5 6 7 8 9 a b c d e f g h i j k l m n o p q r s t u v w x y z A B C D E F G H I J K L M N O P Q R S T U V W X Y Z ! ? \\\" ' * + - = : ; , . < > \\ / [ ] ( ) # $ % &\"\n",
        "avail_char_list = avail_char.split(\" \")\n",
        "for writer_id in [80, 120]:\n",
        "    loaded_data = dl.next_batch(TYPE='TRAIN', uid=writer_id, tids=list(range(num_samples)))\n",
        "    all_loaded_data.append(loaded_data)\n",
        "\n",
        "# for writer interpolation\n",
        "def interpolate_writers(target_word, val):\n",
        "    image = convenience.sample_blended_writers([1 - val, val], target_word, net, all_loaded_data, device).convert(\"RGB\")\n",
        "    return image\n",
        "\n",
        "def choose_blend_writers(writer1, writer2):\n",
        "    id1, id2 = int(writer1.split(\" \")[1]), int(writer1.split(\" \")[1])\n",
        "    all_loaded_data.clear()\n",
        "    for writer_id in [id1, id2]:\n",
        "        loaded_data = dl.next_batch(TYPE='TRAIN', uid=writer_id, tids=list(range(num_samples)))\n",
        "        all_loaded_data.append(loaded_data)\n",
        "\n",
        "    return gr.Slider.update(label=f\"Ratio of {writer1} vs. {writer2}\")\n",
        "'''\n",
        "def choose_writer(writ, c1, c2, c3, c4, val):\n",
        "    all_loaded_data.clear()\n",
        "    w = int(writ.split(\" \")[1])\n",
        "    loaded_data = dl.next_batch(TYPE='TRAIN', uid=w, tids=list(range(num_samples)))\n",
        "    all_loaded_data.append(loaded_data)\n",
        "    return char_grid(c1, c2, c3, c4, val)\n",
        "'''\n",
        "# for character grrid\n",
        "def choose_grid_chars(c1, c2, c3, c4):\n",
        "      return gr.Button.update(value=f\"Blend {c1}, {c2}, {c3}, and {c4}!\")\n",
        "\n",
        "def char_grid(c1, c2, c3, c4):\n",
        "    image = convenience.sample_character_grid([c1, c2, c3, c4], 5, net, all_loaded_data, device).convert(\"RGB\")\n",
        "    return image\n",
        "\n",
        "# for character blend\n",
        "def interpolate_chars(c1, c2, weight):\n",
        "    image = convenience.sample_blended_chars([weight, 1 - weight], [c1, c2], net, all_loaded_data, device).convert(\"RGB\")\n",
        "    return image\n",
        "\n",
        "def choose_blend_chars(c1, c2):\n",
        "   return gr.Slider.update(label=f\"Ratio of character '{c1}' to '{c2}'\")\n",
        "\n",
        "# for MDN\n",
        "def mdn_sample(word, maxs, maxr):\n",
        "    image = convenience.mdn_single_sample(word, maxs, maxr, net, all_loaded_data, device).convert(\"RGB\")\n",
        "    return image\n",
        "\"\"\"\n",
        "def char_vid(word):\n",
        "    #make word list\n",
        "    convenience.char_interpolation_video(word_list, 10, net, all_loaded_data, device).convert('RGB')\n",
        "    vid_path = f\"/content/drive/MyDrive/Colab Notebooks/Spring22/decoupled-style-descriptors-eb/results/abcdefg_video.mov\"\n",
        "    return gr.Video.update(value=vid_path)\n",
        "\"\"\"\n",
        "    \n",
        "with gr.Blocks() as demo:\n",
        "    with gr.Tabs():\n",
        "        with gr.TabItem(\"Blend Writers\"):\n",
        "          target_word = gr.Textbox(label=\"Target Word\", value=\"hello world\", max_lines=1)\n",
        "          with gr.Row():\n",
        "              left_ratio_options = [\"Writer \" + str(id) for i, id in enumerate(writer_options) if i % 2 == 0]\n",
        "              right_ratio_options = [\"Writer \" + str(id) for i, id in enumerate(writer_options) if i % 2 == 1]\n",
        "              with gr.Column():\n",
        "                  writer1 = gr.Radio(left_ratio_options, value=\"Writer 120\", label=\"Style for writer 1\")\n",
        "              with gr.Column():\n",
        "                  writer2 = gr.Radio(right_ratio_options, value=\"Writer 80\", label=\"Style for writer 2\")\n",
        "          with gr.Row():\n",
        "              writer_slider = gr.Slider(0, 1, value=0.3, label=\"Ratio of Writer 80 vs. Writer 120\")\n",
        "          with gr.Row():\n",
        "              writer_submit = gr.Button(\"Submit\")\n",
        "          with gr.Row():\n",
        "              writer_default_image = convenience.sample_blended_writers([0.3, 0.7], \"hello world\", net, all_loaded_data, device).convert(\"RGB\")\n",
        "              writer_output = gr.Image(writer_default_image)\n",
        "          \n",
        "          writer_submit.click(fn=interpolate_writers, inputs=[target_word, writer_slider], outputs=[writer_output])\n",
        "          writer_slider.change(fn=interpolate_writers, inputs=[target_word, writer_slider], outputs=[writer_output])\n",
        "          target_word.submit(fn=interpolate_writers, inputs=[target_word, writer_slider], outputs=[writer_output])\n",
        "\n",
        "          writer1.change(fn=choose_blend_writers, inputs=[writer1, writer2], outputs=[writer_slider])\n",
        "          writer2.change(fn=choose_blend_writers, inputs=[writer1, writer2], outputs=[writer_slider])\n",
        "    \n",
        "\n",
        "        with gr.TabItem(\"Blend Characters\"):\n",
        "            with gr.Row():\n",
        "                with gr.Column():\n",
        "                    char1 = gr.Dropdown(choices=avail_char_list, value=\"y\", label=\"Character 1\")\n",
        "                with gr.Column():\n",
        "                    char2 = gr.Dropdown(choices=avail_char_list, value=\"s\", label=\"Character 2\")\n",
        "            with gr.Row():\n",
        "               char_slider = gr.Slider(0, 1, value=0.7, label=\"Ratio of character 'y' to 's'\")\n",
        "            with gr.Row():\n",
        "               char_default_image = convenience.sample_blended_chars([0.7, 0.3], [\"y\", \"s\"], net, all_loaded_data, device).convert(\"RGB\")\n",
        "               char_output = gr.Image(char_default_image)\n",
        "            \n",
        "            char_slider.change(fn=interpolate_chars, inputs=[char1, char2, char_slider], outputs=[char_output])\n",
        "\n",
        "            char1.change(fn=choose_blend_chars, inputs=[char1, char2], outputs=[char_slider])\n",
        "            char2.change(fn=choose_blend_chars, inputs=[char1, char2], outputs=[char_slider])\n",
        "        \n",
        "        \"\"\"\n",
        "        with gr.TabItem(\"Character Grid\"): #slow\n",
        "          with gr.Row():\n",
        "              with gr.Column():\n",
        "                  char1 = gr.Dropdown(choices=avail_char_list, value=\"y\", label=\"Character 1\")\n",
        "              with gr.Column():\n",
        "                  char2 = gr.Dropdown(choices=avail_char_list, value=\"s\", label=\"Character 2\")\n",
        "              with gr.Column():\n",
        "                  char3 = gr.Dropdown(choices=avail_char_list, value=\"u\", label=\"Character 3\")\n",
        "              with gr.Column():\n",
        "                  char4 = gr.Dropdown(choices=avail_char_list, value=\"n\", label=\"Character 4\")\n",
        "          with gr.Row(): \n",
        "              submit_button = gr.Button(value=\"Blend y, s, u, and n!\")\n",
        "          '''\n",
        "          with gr.Row():\n",
        "              radio_options2 = [\"Writer \" + str(n) for n in writer_options]\n",
        "              writer = gr.Radio(radio_options2, value=\"Writer 80\", label=\"Style for Writer\")\n",
        "              writer.change(fn=choose_writer, inputs=[writer, char1, char2, char3, char4, slider2], outputs=[output])\n",
        "          '''\n",
        "          #slider2 = gr.Slider(2, 20, value=10, label=\"Grid Size\", step=1)\n",
        "\n",
        "          default_image = convenience.sample_character_grid(['y', 's', 'u', 'n'], 10, net, all_loaded_data, device).convert(\"RGB\")\n",
        "          output = gr.Image(default_image)\n",
        "          \n",
        "          char1.change(fn=choose_grid_chars, inputs=[char1, char2, char3, char4], outputs=[submit_button])\n",
        "          char2.change(fn=choose_grid_chars, inputs=[char1, char2, char3, char4], outputs=[submit_button])\n",
        "          char3.change(fn=choose_grid_chars, inputs=[char1, char2, char3, char4], outputs=[submit_button])\n",
        "          char4.change(fn=choose_grid_chars, inputs=[char1, char2, char3, char4], outputs=[submit_button])\n",
        "          \n",
        "          \n",
        "          #slider2.change(fn=char_grid, inputs=[char1, char2, char3, char4, slider2], outputs=[output])\n",
        "          submit_button.click(fn=char_grid, inputs=[char1, char2, char3, char4], outputs=[output])\n",
        "        \"\"\"\n",
        "        \n",
        "        with gr.TabItem(\"Add Randomness\"):\n",
        "          mdn_word = gr.Textbox(label=\"Target Word\", value=\"hello world\", max_lines=1)\n",
        "          '''\n",
        "          with gr.Row():\n",
        "              radio_options3 = [\"Writer \" + str(n) for n in writer_options]\n",
        "              writer = gr.Radio(radio_options3, value=\"Writer 80\", label=\"Style for Writer\")\n",
        "              writer.change(fn=new_writer_mdn, inputs=[writer, slider3, slider4], outputs=[output])\n",
        "          '''\n",
        "          with gr.Row():\n",
        "            with gr.Column():\n",
        "              max_rand = gr.Slider(0, 1, value=1, label=\"Maximum Randomness\")\n",
        "            with gr.Column():\n",
        "              scale_rand = gr.Slider(0, 3, value=0.5, label=\"Scale of Randomness\")\n",
        "          with gr.Row():\n",
        "              sample_button = gr.Button(value=\"Resample!\")\n",
        "          with gr.Row():\n",
        "              default_im = convenience.mdn_single_sample(\"hello world\", 0.5, 1, net, all_loaded_data, device).convert('RGB')\n",
        "              mdn_output = gr.Image(default_im)\n",
        "\n",
        "          max_rand.change(fn=mdn_sample, inputs=[mdn_word, scale_rand, max_rand], outputs=[mdn_output])\n",
        "          scale_rand.change(fn=mdn_sample, inputs=[mdn_word, scale_rand, max_rand], outputs=[mdn_output])        \n",
        "          sample_button.click(fn=mdn_sample, inputs=[mdn_word, scale_rand, max_rand], outputs=[mdn_output])\n",
        "          mdn_word.submit(fn=mdn_sample, inputs=[mdn_word, scale_rand, max_rand], outputs=[mdn_output])\n",
        "\n",
        "demo.launch()"
      ]
    }
  ],
  "metadata": {
    "colab": {
      "name": "UI.ipynb",
      "provenance": [],
      "collapsed_sections": [],
      "include_colab_link": true
    },
    "kernelspec": {
      "display_name": "Python 3",
      "name": "python3"
    },
    "language_info": {
      "name": "python"
    }
  },
  "nbformat": 4,
  "nbformat_minor": 0
}